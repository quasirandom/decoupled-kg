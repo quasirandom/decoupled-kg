{
 "cells": [
  {
   "cell_type": "markdown",
   "id": "1db5bed6-91f4-4c2f-9db8-53774dc7efed",
   "metadata": {},
   "source": [
    "# GP test problem generation\n",
    "A notebook whose purpose is to generate repeats of a test problem. Use the notebook `gp-test-problem.ipynb` to select good hyperparameters, then use this notebook to generate many instances of problems with these hyperparameters."
   ]
  },
  {
   "cell_type": "code",
   "execution_count": null,
   "id": "311a3381-176a-4324-a86d-3da32b4fa9da",
   "metadata": {},
   "outputs": [],
   "source": [
    "def ensure_root_dir_on_path():\n",
    "    import os\n",
    "    import sys\n",
    "\n",
    "    sources_root_path = os.path.abspath(\"../src\")\n",
    "    if sources_root_path not in sys.path:\n",
    "        sys.path.append(sources_root_path)\n",
    "\n",
    "\n",
    "ensure_root_dir_on_path()"
   ]
  },
  {
   "cell_type": "code",
   "execution_count": null,
   "id": "84c83610-02fc-42ba-9028-ed6d55e47691",
   "metadata": {},
   "outputs": [],
   "source": [
    "import torch\n",
    "\n",
    "from decoupledbo.modules.gp_testproblem import (\n",
    "    # GPTestProblem,\n",
    "    bounds_to_tensor,\n",
    "    create_gp_problem_model,\n",
    "    estimate_reference_point_and_hypervolume,\n",
    ")\n",
    "from decoupledbo.pipeline.data_catalog import DataCatalog\n",
    "from tqdm.notebook import tqdm"
   ]
  },
  {
   "cell_type": "markdown",
   "id": "2cf3e9bf-f1c5-43b4-a037-0232e722d73e",
   "metadata": {},
   "source": [
    "## Description"
   ]
  },
  {
   "cell_type": "code",
   "execution_count": null,
   "id": "5e10dec5-4ebd-46d1-88f5-c3e60aa99a75",
   "metadata": {},
   "outputs": [],
   "source": [
    "n_repeats = 100\n",
    "\n",
    "bounds = [(0, 1), (0, 1)]\n",
    "\n",
    "# Family: Objectives with different length scales\n",
    "master_seed = 14101066\n",
    "problem_name = \"lengthscales\"\n",
    "hyperparams = {\"length_scales\": [0.2, 1.8], \"output_scales\": [1, 50], \"means\": [0, 0]}\n",
    "\n",
    "# Family: Objectives with and without observation noise\n",
    "# master_seed = 25101415\n",
    "# problem_name = \"observationnoise\"\n",
    "# hyperparams = {\"length_scales\": [0.4, 0.4], \"means\": [0, 0], \"output_scales\": [1, 1]}"
   ]
  },
  {
   "cell_type": "markdown",
   "id": "1ac38bbf-b913-4f20-9c8b-078250ddd5bc",
   "metadata": {},
   "source": [
    "## Generation"
   ]
  },
  {
   "cell_type": "code",
   "execution_count": null,
   "id": "16f9b1ba-aa51-40a3-9bab-018ae4fe9774",
   "metadata": {},
   "outputs": [],
   "source": [
    "torch.manual_seed(master_seed)\n",
    "seeds = torch.randint(10_000_000, (n_repeats, 3))"
   ]
  },
  {
   "cell_type": "code",
   "execution_count": null,
   "id": "10b4779c-f7e3-47dc-ab26-11ce1509972f",
   "metadata": {},
   "outputs": [],
   "source": [
    "def generate_and_save_problem(problem_name, i, bounds, hyperparams, seeds):\n",
    "    \"\"\" Generate a test problem and save the result in the data catalog\n",
    "    \n",
    "    Args:\n",
    "        problem_name: The problem will be saved at `problem_name/i.pt`\n",
    "        i: The index to give to the problem\n",
    "        bounds: A list whose jth element is a 2-tuple containing the lower and\n",
    "            upper bounds for the jth objective\n",
    "        hyperparams: A dictionary of hyperparameters (length scales, output\n",
    "            scales and means for each objective).\n",
    "        seeds: A list of integers containing the random seeds to use to generate\n",
    "            problem (1+n seeds are required where n is the number of objectives)\n",
    "    \"\"\"\n",
    "    problem_model, train_x, train_y = create_gp_problem_model(\n",
    "        bounds,\n",
    "        n_objectives=len(bounds),\n",
    "        **hyperparams,\n",
    "        input_seed=seeds[0].item(),\n",
    "        output_seeds=seeds[1:].tolist(),\n",
    "        dtype=torch.double,\n",
    "    )\n",
    "    ref_point, hv = estimate_reference_point_and_hypervolume(\n",
    "        problem_model, bounds_to_tensor(bounds), dtype=torch.double\n",
    "    )\n",
    "    # problem = GPTestProblem(\n",
    "    #     problem_model,\n",
    "    #     bounds=bounds,\n",
    "    #     ref_point=ref_point.tolist(),\n",
    "    #     max_hv=float(hv),\n",
    "    # )\n",
    "    \n",
    "    DataCatalog.save_shared_gp_test_problem_data(\n",
    "        name=f\"{problem_name}/{i}\",\n",
    "        bounds=bounds,\n",
    "        fixed_hyperparams=hyperparams,\n",
    "        model_state_dict=problem_model.state_dict(),\n",
    "        train_x=train_x,\n",
    "        train_y=train_y,\n",
    "        ref_point=ref_point.tolist(),\n",
    "        max_hv=float(hv),\n",
    "        negate=False,\n",
    "    )"
   ]
  },
  {
   "cell_type": "code",
   "execution_count": null,
   "id": "51276820-d2b9-440f-b61c-f61e4b06289e",
   "metadata": {},
   "outputs": [],
   "source": [
    "for i in tqdm(range(n_repeats), desc=\"Generating test problems\"):\n",
    "    generate_and_save_problem(problem_name, i, bounds, hyperparams, seeds[i])"
   ]
  }
 ],
 "metadata": {
  "kernelspec": {
   "display_name": "Python 3 (ipykernel)",
   "language": "python",
   "name": "python3"
  },
  "language_info": {
   "codemirror_mode": {
    "name": "ipython",
    "version": 3
   },
   "file_extension": ".py",
   "mimetype": "text/x-python",
   "name": "python",
   "nbconvert_exporter": "python",
   "pygments_lexer": "ipython3",
   "version": "3.9.5"
  },
  "widgets": {
   "application/vnd.jupyter.widget-state+json": {
    "state": {},
    "version_major": 2,
    "version_minor": 0
   }
  }
 },
 "nbformat": 4,
 "nbformat_minor": 5
}
